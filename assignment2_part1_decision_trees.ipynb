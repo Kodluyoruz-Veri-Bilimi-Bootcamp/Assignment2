








<!DOCTYPE html>
<html lang="en">

<head>
  <meta charset="utf-8">
  <title>Jupyter Notebook Viewer</title>
  <meta name="viewport" content="width=device-width, initial-scale=1.0">
  <meta name="description" content="">
  <meta name="author" content="">
  
  <meta name="robots" content="noindex,nofollow">
  

  <!--NEW RELIC Start Perf Measurement-->
  
  <!--NREND-->

  <!-- Le styles -->
  <link href="/static/build/styles.css?v=55ba354138253381d2c0ada9821cd4da" rel="stylesheet">

  <!-- Le HTML5 shim, for IE6-8 support of HTML5 elements -->
  <!--[if lt IE 9]>
    <script src="http://html5shim.googlecode.com/svn/trunk/html5.js"></script>
  <![endif]-->

  <!-- Le fav and touch icons -->
  <link rel="shortcut icon" href="/static/ico/ipynb_icon_16x16.png">
  <link rel="apple-touch-icon-precomposed" sizes="144x144"
        href="/static/ico/apple-touch-icon-144-precomposed.png?v=5a3c9ede93e2a8b8ea9e3f8f3da1a905">
  <link rel="apple-touch-icon-precomposed" sizes="114x114"
        href="/static/ico/apple-touch-icon-114-precomposed.png?v=45d86fc8f24dc00638035e1dd7a6d898">
  <link rel="apple-touch-icon-precomposed" sizes="72x72"
        href="/static/ico/apple-touch-icon-72-precomposed.png?v=540b5eb0f3cfd25f1439d1c9bd30e15f">
  <link rel="apple-touch-icon-precomposed"
        href="/static/ico/apple-touch-icon-57-precomposed.png?v=225f0590e187e1458625654f10a28f56">
  
  

  

  
  <meta name="twitter:card" content="summary">
  <meta name="twitter:title" content="Notebook on nbviewer">
  <meta name="twitter:description" content="Check out this Jupyter notebook!">

  
  <meta name="twitter:domain" content="nbviewer.jupyter.org">
  <meta name="twitter:image:src" content="http://ipython.org/ipython-doc/dev/_images/ipynb_icon_128x128.png">

  
    <link href="/static/build/notebook.css?v=aae8f92f7e80fc468ae446b9d852fe90" rel="stylesheet">
  

  

  
    <script src="https://cdnjs.cloudflare.com/ajax/libs/mathjax/2.7.1/MathJax.js?config=TeX-AMS_HTML" type="text/javascript">
    </script>
    <script type="text/javascript">
      init_mathjax = function() {
        if (window.MathJax) {
          // MathJax loaded
          MathJax.Hub.Config({
            TeX: {
              equationNumbers: {
                autoNumber: "AMS",
                useLabelIds: true
              }
            },
            tex2jax: {
              inlineMath: [ ['$','$'], ["\\(","\\)"] ],
              displayMath: [ ['$$','$$'], ["\\[","\\]"] ],
              processEscapes: true,
              processEnvironments: true
            },
            displayAlign: 'center',
            "HTML-CSS": {
              styles: {'.MathJax_Display': {"margin": 0}},
              linebreaks: { automatic: true }
            }
          });
          MathJax.Hub.Queue(["Typeset", MathJax.Hub]);
        }
      }
      init_mathjax();
    </script>
  

  
    <script>
      (function() {
        function addWidgetsRenderer() {
          var mimeElement = document.querySelector('script[type="application/vnd.jupyter.widget-view+json"]');
          var scriptElement = document.createElement('script');
          var widgetRendererSrc = 'https://unpkg.com/@jupyter-widgets/html-manager@0.15/dist/embed-amd.js';
          var widgetState;

          try {
            widgetState = mimeElement && JSON.parse(mimeElement.innerHTML);

            if (widgetState && (widgetState.version_major < 2 || !widgetState.version_major)) {
              widgetRendererSrc = 'https://unpkg.com/jupyter-js-widgets@2.1/dist/embed.js';
            }
          } catch(e) {}

          scriptElement.src = widgetRendererSrc;
          document.body.appendChild(scriptElement);
        }

        document.addEventListener('DOMContentLoaded', addWidgetsRenderer);
      }());
    </script>
  

</head>

<body class="nbviewer">

  <!-- These are loaded at the top of the body so they are available to
       notebook cells when they are loaded below. -->
  <script src="/static/components/jquery/dist/jquery.min.js?v=220afd743d9e9643852e31a135a9f3ae"></script>
  <script src="/static/components/requirejs/require.js?v=6da8be361b9ee26c5e721e76c6d4afce"></script>
  <script src="/static/components/moment/min/moment.min.js?v=89f87298ad94aa1e6b92f42eb66da043"></script>
<!-- Navbar
================================================== -->
  <nav id="menubar" class="navbar navbar-default navbar-fixed-top" data-spy="affix">
    <div class="container">
      <div class="navbar-header">
        <button type="button" class="navbar-toggle collapsed" data-toggle="collapse" data-target=".navbar-collapse">
          <span class="sr-only">Toggle navigation</span>
          <i class="fa fa-bars"></i>
        </button>
        <a class="navbar-brand" href="/">
          <img src="/static/img/nav_logo.svg?v=479cefe8d932fb14a67b93911b97d70f" width="159"/>
        </a>
      </div>

      <div class="collapse navbar-collapse">
        <ul class="nav navbar-nav navbar-right">
          <li>
            <a class="active" href="https://jupyter.org">JUPYTER</a>
          </li>
          <li>
    <a href="/faq" title="FAQ" >
      
        <span>FAQ</span>
      
    </a>
  </li>

          
  
    
  
    
      
        <li>
    <a href="/format/script/github/Yorko/mlcourse.ai/blob/master/jupyter_english/assignments_fall2019/assignment2_part1_decision_trees.ipynb" title="View as Code" >
      <span class="fa fa-code fa-2x menu-icon"></span>
      <span class="menu-text">View as Code</span>
    </a>
  </li>
      
    
  

  
    <li>
    <a href="#" title="Python 3 Kernel" >
      <span class="fa fa-server fa-2x menu-icon"></span>
      <span class="menu-text">Python 3 Kernel</span>
    </a>
  </li>
  

  
    <li>
    <a href="https://github.com/Yorko/mlcourse.ai/blob/master/jupyter_english/assignments_fall2019/assignment2_part1_decision_trees.ipynb" title="View on GitHub" >
      <span class="fa fa-github fa-2x menu-icon"></span>
      <span class="menu-text">View on GitHub</span>
    </a>
  </li>
  

  
    <li>
    <a href="https://mybinder.org/v2/gh/Yorko/mlcourse.ai/master?filepath=jupyter_english/assignments_fall2019/assignment2_part1_decision_trees.ipynb" title="Execute on Binder" >
      <span class="fa fa-icon-binder fa-2x menu-icon"></span>
      <span class="menu-text">Execute on Binder</span>
    </a>
  </li>
  

  <li>
    <a href="https://raw.githubusercontent.com/Yorko/mlcourse.ai/master/jupyter_english/assignments_fall2019/assignment2_part1_decision_trees.ipynb" title="Download Notebook" download>
      <span class="fa fa-download fa-2x menu-icon"></span>
      <span class="menu-text">Download Notebook</span>
    </a>
  </li>

        </ul>
      </div><!-- /.navbar-collapse -->
      
      
    </div>
  </nav>

  <div class="container container-main">
    
  
  <ol class="breadcrumb">
    
      <li>
        <a href="/github/Yorko/mlcourse.ai/tree/master">mlcourse.ai</a>
      </li>
    
      <li>
        <a href="/github/Yorko/mlcourse.ai/tree/master/jupyter_english">jupyter_english</a>
      </li>
    
      <li>
        <a href="/github/Yorko/mlcourse.ai/tree/master/jupyter_english/assignments_fall2019">assignments_fall2019</a>
      </li>
    
  </ol>
  
  <div id="notebook">
    <div id="notebook-container">
      <div class="cell border-box-sizing text_cell rendered"><div class="prompt input_prompt">
</div><div class="inner_cell">
<div class="text_cell_render border-box-sizing rendered_html">
<p><center>
<img src="../../img/ods_stickers.jpg" /></p>
<h2 id="mlcourse.ai-&#8211;-Open-Machine-Learning-Course"><a href="https://mlcourse.ai">mlcourse.ai</a> &#8211; Open Machine Learning Course<a class="anchor-link" href="#mlcourse.ai-&#8211;-Open-Machine-Learning-Course">&#182;</a></h2><p>Author: <a href="https://yorko.github.io">Yury Kashnitsky</a> (@yorko). Edited by Anna Tarelina (@feuerengel), and Mikhail Korshchikov (@MS4). This material is subject to the terms and conditions of the <a href="https://creativecommons.org/licenses/by-nc-sa/4.0/">Creative Commons CC BY-NC-SA 4.0</a> license. Free use is permitted for any non-commercial purpose.</p>

</div>
</div>
</div>
<div class="cell border-box-sizing text_cell rendered"><div class="prompt input_prompt">
</div><div class="inner_cell">
<div class="text_cell_render border-box-sizing rendered_html">
<h1><center>Assignment #2. Fall 2019</h1>
<h2><center> Part 1. Decision trees for classification and regression</h2>

</div>
</div>
</div>
<div class="cell border-box-sizing text_cell rendered"><div class="prompt input_prompt">
</div><div class="inner_cell">
<div class="text_cell_render border-box-sizing rendered_html">
<p><strong>In this assignment, we will find out how a decision tree works in a regression task, then will build and tune classification decision trees for identifying heart diseases.</strong></p>
<p>Prior to working on the assignment, you'd better check out the corresponding course material:</p>
<ol>
<li><a href="https://nbviewer.jupyter.org/github/Yorko/mlcourse_open/blob/master/jupyter_english/topic03_decision_trees_kNN/topic3_decision_trees_kNN.ipynb?flush_cache=true">Classification, Decision Trees and k Nearest Neighbors</a>, the same as an interactive web-based <a href="https://www.kaggle.com/kashnitsky/topic-3-decision-trees-and-knn">Kaggle Kernel</a> </li>
<li>Ensembles:<ul>
<li><a href="https://nbviewer.jupyter.org/github/Yorko/mlcourse_open/blob/master/jupyter_english/topic05_ensembles_random_forests/topic5_part1_bagging.ipynb?flush_cache=true">Bagging</a>, the same as a <a href="https://www.kaggle.com/kashnitsky/topic-5-ensembles-part-1-bagging">Kaggle Kernel</a></li>
<li><a href="https://nbviewer.jupyter.org/github/Yorko/mlcourse_open/blob/master/jupyter_english/topic05_ensembles_random_forests/topic5_part2_random_forest.ipynb?flush_cache=true">Random Forest</a>, the same as a <a href="https://www.kaggle.com/kashnitsky/topic-5-ensembles-part-2-random-forest">Kaggle Kernel</a></li>
<li><a href="https://nbviewer.jupyter.org/github/Yorko/mlcourse_open/blob/master/jupyter_english/topic05_ensembles_random_forests/topic5_part3_feature_importance.ipynb?flush_cache=true">Feature Importance</a>, the same as a <a href="https://www.kaggle.com/kashnitsky/topic-5-ensembles-part-3-feature-importance">Kaggle Kernel</a></li>
</ul>
</li>
<li><ul>
<li><a href="https://nbviewer.jupyter.org/github/Yorko/mlcourse_open/blob/master/jupyter_english/topic10_boosting/topic10_gradient_boosting.ipynb?flush_cache=true">Gradient boosting</a>, the same as a <a href="https://www.kaggle.com/kashnitsky/topic-10-gradient-boosting">Kaggle Kernel</a> </li>
<li>Logistic regression, Random Forest, and LightGBM in the "Kaggle Forest Cover Type Prediction" competition: <a href="https://www.kaggle.com/kashnitsky/topic-10-practice-with-logit-rf-and-lightgbm">Kernel</a> </li>
</ul>
</li>
<li>You can also practice with demo assignments, which are simpler and already shared with solutions:<ul>
<li>"Decision trees with a toy task and the UCI Adult dataset": <a href="https://www.kaggle.com/kashnitsky/a3-demo-decision-trees">assignment</a> + <a href="https://www.kaggle.com/kashnitsky/a3-demo-decision-trees-solution">solution</a></li>
<li>"Logistic Regression and Random Forest in the credit scoring problem": <a href="https://www.kaggle.com/kashnitsky/assignment-5-logit-and-rf-for-credit-scoring">assignment</a> + <a href="https://www.kaggle.com/kashnitsky/a5-demo-logit-and-rf-for-credit-scoring-sol">solution</a></li>
</ul>
</li>
<li>There are also 7 video lectures on trees, forests, boosting and their applications: <a href="https://mlcourse.ai/lectures">mlcourse.ai/lectures</a> </li>
</ol>
<h3 id="Your-task-is-to:">Your task is to:<a class="anchor-link" href="#Your-task-is-to:">&#182;</a></h3><ol>
<li>write code and perform computations in the cells below</li>
<li>choose answers in the <a href="https://docs.google.com/forms/d/1-xvxl0xjV4voDYIbcCxxpAc_pjcWEpnLQ9kaKLHwXsA">webform</a>. Solutions will be shared only with those who've filled in this form </li>
</ol>
<h3><center> Deadline for A2: 2019 October 6, 20:59 CET (London time)</h3>

</div>
</div>
</div>
<div class="cell border-box-sizing code_cell rendered">
<div class="input">
<div class="prompt input_prompt">In&nbsp;[1]:</div>
<div class="inner_cell">
    <div class="input_area">
<div class=" highlight hl-ipython3"><pre><span></span><span class="kn">import</span> <span class="nn">numpy</span> <span class="k">as</span> <span class="nn">np</span>
<span class="kn">import</span> <span class="nn">pandas</span> <span class="k">as</span> <span class="nn">pd</span>
<span class="kn">from</span> <span class="nn">matplotlib</span> <span class="k">import</span> <span class="n">pyplot</span> <span class="k">as</span> <span class="n">plt</span>
<span class="kn">from</span> <span class="nn">sklearn.model_selection</span> <span class="k">import</span> <span class="n">train_test_split</span><span class="p">,</span> <span class="n">GridSearchCV</span>
<span class="kn">from</span> <span class="nn">sklearn.metrics</span> <span class="k">import</span> <span class="n">accuracy_score</span>
<span class="kn">from</span> <span class="nn">sklearn.tree</span> <span class="k">import</span> <span class="n">DecisionTreeClassifier</span><span class="p">,</span> <span class="n">export_graphviz</span>
</pre></div>

    </div>
</div>
</div>

</div>
<div class="cell border-box-sizing text_cell rendered"><div class="prompt input_prompt">
</div><div class="inner_cell">
<div class="text_cell_render border-box-sizing rendered_html">
<h2 id="1.-Decision-trees-for-regression:-a-toy-example">1. Decision trees for regression: a toy example<a class="anchor-link" href="#1.-Decision-trees-for-regression:-a-toy-example">&#182;</a></h2>
</div>
</div>
</div>
<div class="cell border-box-sizing text_cell rendered"><div class="prompt input_prompt">
</div><div class="inner_cell">
<div class="text_cell_render border-box-sizing rendered_html">
<p>Let's consider the following one-dimensional regression problem. We need to build a function $\large a(x)$ to approximate the dependency $\large y = f(x)$ using the mean-squared error criterion: $\large \min \sum_i {(a(x_i) - f(x_i))}^2$.</p>

</div>
</div>
</div>
<div class="cell border-box-sizing code_cell rendered">
<div class="input">
<div class="prompt input_prompt">In&nbsp;[2]:</div>
<div class="inner_cell">
    <div class="input_area">
<div class=" highlight hl-ipython3"><pre><span></span><span class="n">X</span> <span class="o">=</span> <span class="n">np</span><span class="o">.</span><span class="n">linspace</span><span class="p">(</span><span class="o">-</span><span class="mi">2</span><span class="p">,</span> <span class="mi">2</span><span class="p">,</span> <span class="mi">7</span><span class="p">)</span>
<span class="n">y</span> <span class="o">=</span> <span class="n">X</span> <span class="o">**</span> <span class="mi">3</span> <span class="c1"># original dependecy </span>

<span class="n">plt</span><span class="o">.</span><span class="n">scatter</span><span class="p">(</span><span class="n">X</span><span class="p">,</span> <span class="n">y</span><span class="p">)</span>
<span class="n">plt</span><span class="o">.</span><span class="n">xlabel</span><span class="p">(</span><span class="sa">r</span><span class="s1">&#39;$x$&#39;</span><span class="p">)</span>
<span class="n">plt</span><span class="o">.</span><span class="n">ylabel</span><span class="p">(</span><span class="sa">r</span><span class="s1">&#39;$y$&#39;</span><span class="p">);</span>
</pre></div>

    </div>
</div>
</div>

<div class="output_wrapper">
<div class="output">


<div class="output_area">

    <div class="prompt"></div>




<div class="output_png output_subarea ">
<img src="data:image/png;base64,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
"
>
</div>

</div>

</div>
</div>

</div>
<div class="cell border-box-sizing text_cell rendered"><div class="prompt input_prompt">
</div><div class="inner_cell">
<div class="text_cell_render border-box-sizing rendered_html">
<p>Let's make several steps to build a decision tree. In the case of a <strong>regression</strong> task, at prediction time, the leaf returns the average value for all observations in this leaf.</p>
<p>Let's start with a tree of depth 0, i.e. all observations placed in a single leaf.</p>
<p><br>You'll need to build a tree with only one node (also called <strong>root</strong>) that contains all train observations (instances). 
<br>How will predictions of this tree look like for $x \in [-2, 2]$? <br> Create an appropriate plot using a pen, paper and Python if needed (but no <code>sklearn</code> is needed yet).</p>

</div>
</div>
</div>
<div class="cell border-box-sizing code_cell rendered">
<div class="input">
<div class="prompt input_prompt">In&nbsp;[3]:</div>
<div class="inner_cell">
    <div class="input_area">
<div class=" highlight hl-ipython3"><pre><span></span><span class="c1"># You code here</span>
</pre></div>

    </div>
</div>
</div>

</div>
<div class="cell border-box-sizing text_cell rendered"><div class="prompt input_prompt">
</div><div class="inner_cell">
<div class="text_cell_render border-box-sizing rendered_html">
<p><strong>Making first splits.</strong>
<br>Let's split the data according to the following condition $[x &lt; 0]$. It gives us the tree of depth 1 with two leaves. To clarify, for all instances with $x \geqslant 0$ the tree will return some value, for all instances with $x &lt; 0$ it will return another value. Let's create a similar plot for predictions of this tree.</p>

</div>
</div>
</div>
<div class="cell border-box-sizing code_cell rendered">
<div class="input">
<div class="prompt input_prompt">In&nbsp;[4]:</div>
<div class="inner_cell">
    <div class="input_area">
<div class=" highlight hl-ipython3"><pre><span></span><span class="c1"># You code here</span>
</pre></div>

    </div>
</div>
</div>

</div>
<div class="cell border-box-sizing text_cell rendered"><div class="prompt input_prompt">
</div><div class="inner_cell">
<div class="text_cell_render border-box-sizing rendered_html">
<p>In the decision tree algorithm, the feature and the threshold for splitting are chosen according to some criterion. The commonly used criterion for regression is based on variance: $$\large Q(X, y, j, t) = D(X, y) - \dfrac{|X_l|}{|X|} D(X_l, y_l) - \dfrac{|X_r|}{|X|} D(X_r, y_r),$$
where $\large X$ and $\large y$ are a feature matrix and a target vector (correspondingly) for training instances in a current node, $\large X_l, y_l$ and $\large X_r, y_r$ are splits of samples $\large X, y$ into two parts w.r.t. $\large [x_j &lt; t]$ (by $\large j$-th feature and threshold $\large t$), $\large |X|$, $\large |X_l|$, $\large |X_r|$ (or, the same, $\large |y|$, $\large |y_l|$, $\large |y_r|$) are sizes of appropriate samples, and $\large D(X, y)$ is variance of answers $\large y$ for all instances in $\large X$:
$$\large D(X, y) = \dfrac{1}{|X|} \sum_{j=1}^{|X|}(y_j – \dfrac{1}{|X|}\sum_{i = 1}^{|X|}y_i)^2$$
Here $\large y_i = y(x_i)$ is the answer for the $\large x_i$ instance. Feature index $\large j$ and threshold $\large t$ are chosen to maximize the value of criterion  $\large Q(X, y, j, t)$ for each split.</p>
<p>In our 1D case,  there's only one feature so $\large Q$ depends only on threshold $\large t$ and training data $\large X$ and $\large y$. Let's designate it $\large Q_{1d}(X, y, t)$ meaning that the criterion no longer depends on feature index $\large j$, i.e. in 1D case $\large j = 1$.</p>

</div>
</div>
</div>
<div class="cell border-box-sizing code_cell rendered">
<div class="input">
<div class="prompt input_prompt">In&nbsp;[5]:</div>
<div class="inner_cell">
    <div class="input_area">
<div class=" highlight hl-ipython3"><pre><span></span><span class="k">def</span> <span class="nf">regression_var_criterion</span><span class="p">(</span><span class="n">X</span><span class="p">,</span> <span class="n">y</span><span class="p">,</span> <span class="n">t</span><span class="p">):</span>
    <span class="k">pass</span>
    <span class="c1"># You code here</span>
</pre></div>

    </div>
</div>
</div>

</div>
<div class="cell border-box-sizing text_cell rendered"><div class="prompt input_prompt">
</div><div class="inner_cell">
<div class="text_cell_render border-box-sizing rendered_html">
<p>Create the plot of criterion $\large Q_{1d}(X, y, t)$  as a function of threshold value $t$ on the interval $\large [-1.9, 1.9]$.</p>

</div>
</div>
</div>
<div class="cell border-box-sizing code_cell rendered">
<div class="input">
<div class="prompt input_prompt">In&nbsp;[6]:</div>
<div class="inner_cell">
    <div class="input_area">
<div class=" highlight hl-ipython3"><pre><span></span><span class="c1"># You code here</span>
</pre></div>

    </div>
</div>
</div>

</div>
<div class="cell border-box-sizing text_cell rendered"><div class="prompt input_prompt">
</div><div class="inner_cell">
<div class="text_cell_render border-box-sizing rendered_html">
<p><strong><font color='red'>Question 1.</font> What is the worst threshold value (to perform a split) according to the variance criterion?</strong></p>
<p><font color = 'red'> **Answer options:** </font></p>
<ul>
<li>-1.9</li>
<li>-1.3</li>
<li>0</li>
<li>1.3</li>
<li>1.9 </li>
</ul>
<p><em>For discussions, please stick to <a href="https://opendatascience.slack.com/">ODS Slack</a>, channel <strong>#mlcourse_ai_news</strong>, pinned thread <strong>#a2_part1_fall2019</strong></em></p>

</div>
</div>
</div>
<div class="cell border-box-sizing text_cell rendered"><div class="prompt input_prompt">
</div><div class="inner_cell">
<div class="text_cell_render border-box-sizing rendered_html">
<p>Then let's make splitting in each of the leaves nodes. 
<br> Take your tree with first threshold [$x&lt;0$].
<br> Now add a split in the left branch (where previous split was $x &lt; 0$) using the criterion $[x &lt; -1.5]$, in the right branch (where previous split was $x \geqslant 0$) with the following criterion $[x &lt; 1.5]$. 
<br>It gives us a tree of depth 2 with 7 nodes and 4 leaves. Create a plot of this tree predictions for $x \in [-2, 2]$.</p>

</div>
</div>
</div>
<div class="cell border-box-sizing code_cell rendered">
<div class="input">
<div class="prompt input_prompt">In&nbsp;[7]:</div>
<div class="inner_cell">
    <div class="input_area">
<div class=" highlight hl-ipython3"><pre><span></span><span class="c1"># You code here</span>
</pre></div>

    </div>
</div>
</div>

</div>
<div class="cell border-box-sizing text_cell rendered"><div class="prompt input_prompt">
</div><div class="inner_cell">
<div class="text_cell_render border-box-sizing rendered_html">
<p><strong><font color='red'>Question 2.</font> Tree predictions is a piecewise-constant function, right? How many "pieces" (horizontal segments in the plot that you've just built) are there in the interval [-2, 2]?</strong></p>
<p><font color = 'red'> **Answer options:** </font></p>
<ul>
<li>2</li>
<li>4</li>
<li>6</li>
<li>8</li>
</ul>
<p><em>For discussions, please stick to <a href="https://opendatascience.slack.com/">ODS Slack</a>, channel <strong>#mlcourse_ai_news</strong>, pinned thread <strong>#a2_part1_fall2019</strong></em></p>

</div>
</div>
</div>
<div class="cell border-box-sizing text_cell rendered"><div class="prompt input_prompt">
</div><div class="inner_cell">
<div class="text_cell_render border-box-sizing rendered_html">
<h2 id="2.-Building-a-decision-tree-for-predicting-heart-diseases">2. Building a decision tree for predicting heart diseases<a class="anchor-link" href="#2.-Building-a-decision-tree-for-predicting-heart-diseases">&#182;</a></h2><p>Let's read the data on heart diseases. The dataset can be downloaded from the course repo from <a href="https://github.com/Yorko/mlcourse.ai/blob/master/data/mlbootcamp5_train.csv">here</a> by clicking on <code>Download</code> and then selecting <code>Save As</code> option. If you work with Git, then the dataset is already there in <code>data/mlbootcamp5_train.csv</code>.</p>
<p><strong>Problem</strong></p>
<p>Predict presence or absence of cardiovascular disease (CVD) using the patient examination results.</p>
<p><strong>Data description</strong></p>
<p>There are 3 types of input features:</p>
<ul>
<li><em>Objective</em>: factual information;</li>
<li><em>Examination</em>: results of medical examination;</li>
<li><em>Subjective</em>: information given by the patient.</li>
</ul>
<table>
<thead><tr>
<th>Feature</th>
<th>Variable Type</th>
<th>Variable</th>
<th>Value Type</th>
</tr>
</thead>
<tbody>
<tr>
<td>Age</td>
<td>Objective Feature</td>
<td>age</td>
<td>int (days)</td>
</tr>
<tr>
<td>Height</td>
<td>Objective Feature</td>
<td>height</td>
<td>int (cm)</td>
</tr>
<tr>
<td>Weight</td>
<td>Objective Feature</td>
<td>weight</td>
<td>float (kg)</td>
</tr>
<tr>
<td>Gender</td>
<td>Objective Feature</td>
<td>gender</td>
<td>categorical code</td>
</tr>
<tr>
<td>Systolic blood pressure</td>
<td>Examination Feature</td>
<td>ap_hi</td>
<td>int</td>
</tr>
<tr>
<td>Diastolic blood pressure</td>
<td>Examination Feature</td>
<td>ap_lo</td>
<td>int</td>
</tr>
<tr>
<td>Cholesterol</td>
<td>Examination Feature</td>
<td>cholesterol</td>
<td>1: normal, 2: above normal, 3: well above normal</td>
</tr>
<tr>
<td>Glucose</td>
<td>Examination Feature</td>
<td>gluc</td>
<td>1: normal, 2: above normal, 3: well above normal</td>
</tr>
<tr>
<td>Smoking</td>
<td>Subjective Feature</td>
<td>smoke</td>
<td>binary</td>
</tr>
<tr>
<td>Alcohol intake</td>
<td>Subjective Feature</td>
<td>alco</td>
<td>binary</td>
</tr>
<tr>
<td>Physical activity</td>
<td>Subjective Feature</td>
<td>active</td>
<td>binary</td>
</tr>
<tr>
<td>Presence or absence of cardiovascular disease</td>
<td>Target Variable</td>
<td>cardio</td>
<td>binary</td>
</tr>
</tbody>
</table>
<p>All of the dataset values were collected at the moment of medical examination.</p>

</div>
</div>
</div>
<div class="cell border-box-sizing code_cell rendered">
<div class="input">
<div class="prompt input_prompt">In&nbsp;[8]:</div>
<div class="inner_cell">
    <div class="input_area">
<div class=" highlight hl-ipython3"><pre><span></span><span class="n">df</span> <span class="o">=</span> <span class="n">pd</span><span class="o">.</span><span class="n">read_csv</span><span class="p">(</span><span class="s1">&#39;../../data/mlbootcamp5_train.csv&#39;</span><span class="p">,</span> 
                 <span class="n">index_col</span><span class="o">=</span><span class="s1">&#39;id&#39;</span><span class="p">,</span> <span class="n">sep</span><span class="o">=</span><span class="s1">&#39;;&#39;</span><span class="p">)</span>
</pre></div>

    </div>
</div>
</div>

</div>
<div class="cell border-box-sizing code_cell rendered">
<div class="input">
<div class="prompt input_prompt">In&nbsp;[9]:</div>
<div class="inner_cell">
    <div class="input_area">
<div class=" highlight hl-ipython3"><pre><span></span><span class="n">df</span><span class="o">.</span><span class="n">head</span><span class="p">()</span>
</pre></div>

    </div>
</div>
</div>

<div class="output_wrapper">
<div class="output">


<div class="output_area">

    <div class="prompt output_prompt">Out[9]:</div>



<div class="output_html rendered_html output_subarea output_execute_result">
<div>
<style scoped>
    .dataframe tbody tr th:only-of-type {
        vertical-align: middle;
    }

    .dataframe tbody tr th {
        vertical-align: top;
    }

    .dataframe thead th {
        text-align: right;
    }
</style>
<table border="1" class="dataframe">
  <thead>
    <tr style="text-align: right;">
      <th></th>
      <th>age</th>
      <th>gender</th>
      <th>height</th>
      <th>weight</th>
      <th>ap_hi</th>
      <th>ap_lo</th>
      <th>cholesterol</th>
      <th>gluc</th>
      <th>smoke</th>
      <th>alco</th>
      <th>active</th>
      <th>cardio</th>
    </tr>
    <tr>
      <th>id</th>
      <th></th>
      <th></th>
      <th></th>
      <th></th>
      <th></th>
      <th></th>
      <th></th>
      <th></th>
      <th></th>
      <th></th>
      <th></th>
      <th></th>
    </tr>
  </thead>
  <tbody>
    <tr>
      <th>0</th>
      <td>18393</td>
      <td>2</td>
      <td>168</td>
      <td>62.0</td>
      <td>110</td>
      <td>80</td>
      <td>1</td>
      <td>1</td>
      <td>0</td>
      <td>0</td>
      <td>1</td>
      <td>0</td>
    </tr>
    <tr>
      <th>1</th>
      <td>20228</td>
      <td>1</td>
      <td>156</td>
      <td>85.0</td>
      <td>140</td>
      <td>90</td>
      <td>3</td>
      <td>1</td>
      <td>0</td>
      <td>0</td>
      <td>1</td>
      <td>1</td>
    </tr>
    <tr>
      <th>2</th>
      <td>18857</td>
      <td>1</td>
      <td>165</td>
      <td>64.0</td>
      <td>130</td>
      <td>70</td>
      <td>3</td>
      <td>1</td>
      <td>0</td>
      <td>0</td>
      <td>0</td>
      <td>1</td>
    </tr>
    <tr>
      <th>3</th>
      <td>17623</td>
      <td>2</td>
      <td>169</td>
      <td>82.0</td>
      <td>150</td>
      <td>100</td>
      <td>1</td>
      <td>1</td>
      <td>0</td>
      <td>0</td>
      <td>1</td>
      <td>1</td>
    </tr>
    <tr>
      <th>4</th>
      <td>17474</td>
      <td>1</td>
      <td>156</td>
      <td>56.0</td>
      <td>100</td>
      <td>60</td>
      <td>1</td>
      <td>1</td>
      <td>0</td>
      <td>0</td>
      <td>0</td>
      <td>0</td>
    </tr>
  </tbody>
</table>
</div>
</div>

</div>

</div>
</div>

</div>
<div class="cell border-box-sizing text_cell rendered"><div class="prompt input_prompt">
</div><div class="inner_cell">
<div class="text_cell_render border-box-sizing rendered_html">
<p>Transform the features:</p>
<ul>
<li>create "age in years" dividing age by 365.25 and taking floor ($\lfloor{x}\rfloor$ is the largest integer that is less than or equal to $x$) </li>
<li>create 3 binary features based on <code>cholesterol</code>.</li>
<li>create 3 binary features based on <code>gluc</code>.
<br> Binary features equal to 1, 2 or 3. This method is called dummy-encoding or One Hot Encoding (OHE). It is more convenient to use <code>pandas.get_dummies</code>. There is no need to use the original features <code>cholesterol</code> and <code>gluc</code> after encoding.</li>
</ul>

</div>
</div>
</div>
<div class="cell border-box-sizing code_cell rendered">
<div class="input">
<div class="prompt input_prompt">In&nbsp;[10]:</div>
<div class="inner_cell">
    <div class="input_area">
<div class=" highlight hl-ipython3"><pre><span></span><span class="c1"># You code here</span>
</pre></div>

    </div>
</div>
</div>

</div>
<div class="cell border-box-sizing text_cell rendered"><div class="prompt input_prompt">
</div><div class="inner_cell">
<div class="text_cell_render border-box-sizing rendered_html">
<p>Split data into train and holdout parts in the proportion of 7/3 using <code>sklearn.model_selection.train_test_split</code> with <code>random_state=17</code>.</p>

</div>
</div>
</div>
<div class="cell border-box-sizing code_cell rendered">
<div class="input">
<div class="prompt input_prompt">In&nbsp;[11]:</div>
<div class="inner_cell">
    <div class="input_area">
<div class=" highlight hl-ipython3"><pre><span></span><span class="c1"># You code here</span>
<span class="c1"># X_train, X_valid, y_train, y_valid = ...</span>
</pre></div>

    </div>
</div>
</div>

</div>
<div class="cell border-box-sizing text_cell rendered"><div class="prompt input_prompt">
</div><div class="inner_cell">
<div class="text_cell_render border-box-sizing rendered_html">
<p>Train a decision tree on the dataset <code>(X_train, y_train)</code> with <strong>max depth equal to 3</strong> and <code>random_state=17</code>. Plot this tree with <code>sklearn.tree.export_graphviz</code> and Graphviz. Here we need to mention that <code>sklearn</code> doesn't draw decision trees on its own, but is able to output a tree in the <code>.dot</code> format that can be used by Graphviz for visualization.</p>
<p>How to plot a decision tree, alternatives:</p>
<ol>
<li>Install Graphviz and pydotpus yourself (see below)</li>
<li>Use our docker image with all needed packages already installed</li>
<li>Easy way: execute <code>print(dot_data.getvalue())</code> with <code>dot_data</code> defined below (this can be done without pydotplus and Graphviz), go to <a href="http://www.webgraphviz.com">http://www.webgraphviz.com</a>, paste the graph code string (digraph Tree {...) and generate a nice picture</li>
</ol>

</div>
</div>
</div>
<div class="cell border-box-sizing text_cell rendered"><div class="prompt input_prompt">
</div><div class="inner_cell">
<div class="text_cell_render border-box-sizing rendered_html">
<p>There are may be some troubles with graphviz for Windows users.
The error is 'GraphViz's executables not found'.
<br>To fix that - install Graphviz from <a href="https://graphviz.gitlab.io/_pages/Download/Download_windows.html">here</a>.
<br>Then add graphviz path to your system PATH variable. You can do this manually, but don't forget to restart kernel.
<br>Or just run this code:</p>

</div>
</div>
</div>
<div class="cell border-box-sizing code_cell rendered">
<div class="input">
<div class="prompt input_prompt">In&nbsp;[12]:</div>
<div class="inner_cell">
    <div class="input_area">
<div class=" highlight hl-ipython3"><pre><span></span><span class="kn">import</span> <span class="nn">os</span>
<span class="n">path_to_graphviz</span> <span class="o">=</span> <span class="s1">&#39;&#39;</span> <span class="c1"># your path to graphviz (C:\\Program Files (x86)\\Graphviz2.38\\bin\\ for example) </span>
<span class="n">os</span><span class="o">.</span><span class="n">environ</span><span class="p">[</span><span class="s2">&quot;PATH&quot;</span><span class="p">]</span> <span class="o">+=</span> <span class="n">os</span><span class="o">.</span><span class="n">pathsep</span> <span class="o">+</span> <span class="n">path_to_graphviz</span>
</pre></div>

    </div>
</div>
</div>

</div>
<div class="cell border-box-sizing text_cell rendered"><div class="prompt input_prompt">
</div><div class="inner_cell">
<div class="text_cell_render border-box-sizing rendered_html">
<p>Take a look how trees are visualized in the <a href="https://nbviewer.jupyter.org/github/Yorko/mlcourse_open/blob/master/jupyter_english/topic03_decision_trees_kNN/topic3_decision_trees_kNN.ipynb?flush_cache=true">3rd part</a> of course materials.</p>

</div>
</div>
</div>
<div class="cell border-box-sizing text_cell rendered"><div class="prompt input_prompt">
</div><div class="inner_cell">
<div class="text_cell_render border-box-sizing rendered_html">
<p><strong><font color='red'>Question 3.</font> Which 3 features are used to make predictions in the created decision tree?</strong></p>
<p><font color = 'red'> **Answer options:** </font></p>
<ul>
<li>age, ap_lo, chol=1</li>
<li>age, ap_hi, chol=3</li>
<li>smoke, age, gender</li>
<li>alco, weight, gluc=3</li>
</ul>
<p><em>For discussions, please stick to <a href="https://opendatascience.slack.com/">ODS Slack</a>, channel <strong>#mlcourse_ai_news</strong>, pinned thread <strong>#a2_part1_fall2019</strong></em></p>

</div>
</div>
</div>
<div class="cell border-box-sizing text_cell rendered"><div class="prompt input_prompt">
</div><div class="inner_cell">
<div class="text_cell_render border-box-sizing rendered_html">
<p>Make predictions for holdout data <code>(X_valid, y_valid)</code> with the trained decision tree. Calculate accuracy.</p>

</div>
</div>
</div>
<div class="cell border-box-sizing code_cell rendered">
<div class="input">
<div class="prompt input_prompt">In&nbsp;[13]:</div>
<div class="inner_cell">
    <div class="input_area">
<div class=" highlight hl-ipython3"><pre><span></span><span class="c1"># You code here</span>
</pre></div>

    </div>
</div>
</div>

</div>
<div class="cell border-box-sizing text_cell rendered"><div class="prompt input_prompt">
</div><div class="inner_cell">
<div class="text_cell_render border-box-sizing rendered_html">
<p>Set up the depth of the tree using cross-validation on the dataset <code>(X_train, y_train)</code> in order to increase quality of the model. Use <code>GridSearchCV</code> with 5 folds. Fix <code>random_state=17</code> and change  <code>max_depth</code> from 2 to 10.</p>

</div>
</div>
</div>
<div class="cell border-box-sizing code_cell rendered">
<div class="input">
<div class="prompt input_prompt">In&nbsp;[14]:</div>
<div class="inner_cell">
    <div class="input_area">
<div class=" highlight hl-ipython3"><pre><span></span><span class="n">tree_params</span> <span class="o">=</span> <span class="p">{</span><span class="s1">&#39;max_depth&#39;</span><span class="p">:</span> <span class="nb">list</span><span class="p">(</span><span class="nb">range</span><span class="p">(</span><span class="mi">2</span><span class="p">,</span> <span class="mi">11</span><span class="p">))}</span>

<span class="n">tree_grid</span> <span class="o">=</span> <span class="n">GridSearchCV</span> <span class="c1"># You code here</span>
</pre></div>

    </div>
</div>
</div>

</div>
<div class="cell border-box-sizing text_cell rendered"><div class="prompt input_prompt">
</div><div class="inner_cell">
<div class="text_cell_render border-box-sizing rendered_html">
<p>Draw the plot to show how mean accuracy is changing in regards to <code>max_depth</code> value on cross-validation.</p>

</div>
</div>
</div>
<div class="cell border-box-sizing code_cell rendered">
<div class="input">
<div class="prompt input_prompt">In&nbsp;[15]:</div>
<div class="inner_cell">
    <div class="input_area">
<div class=" highlight hl-ipython3"><pre><span></span><span class="c1"># You code here</span>
</pre></div>

    </div>
</div>
</div>

</div>
<div class="cell border-box-sizing text_cell rendered"><div class="prompt input_prompt">
</div><div class="inner_cell">
<div class="text_cell_render border-box-sizing rendered_html">
<p>Print the best value of <code>max_depth</code> where the mean value of cross-validation quality metric reaches maximum. Also compute accuracy on holdout data. This can be done with the trained instance of the class <code>GridSearchCV</code>.</p>

</div>
</div>
</div>
<div class="cell border-box-sizing code_cell rendered">
<div class="input">
<div class="prompt input_prompt">In&nbsp;[16]:</div>
<div class="inner_cell">
    <div class="input_area">
<div class=" highlight hl-ipython3"><pre><span></span><span class="c1"># You code here</span>
</pre></div>

    </div>
</div>
</div>

</div>
<div class="cell border-box-sizing text_cell rendered"><div class="prompt input_prompt">
</div><div class="inner_cell">
<div class="text_cell_render border-box-sizing rendered_html">
<p>Сalculate the effect of <code>GridSearchCV</code>: check out the expression (acc2 - acc1) / acc1 * 100%, where acc1 and acc2 are accuracies on holdout data before and after tuning max_depth with GridSearchCV respectively.</p>

</div>
</div>
</div>
<div class="cell border-box-sizing code_cell rendered">
<div class="input">
<div class="prompt input_prompt">In&nbsp;[17]:</div>
<div class="inner_cell">
    <div class="input_area">
<div class=" highlight hl-ipython3"><pre><span></span><span class="c1"># You code here</span>
</pre></div>

    </div>
</div>
</div>

</div>
<div class="cell border-box-sizing text_cell rendered"><div class="prompt input_prompt">
</div><div class="inner_cell">
<div class="text_cell_render border-box-sizing rendered_html">
<p><strong><font color='red'>Question 4.</font> Choose all correct statements.</strong></p>
<p><font color = 'red'> **Answer options:** </font></p>
<ul>
<li>There exists a local maximum of accuracy on the built validation curve</li>
<li><code>GridSearchCV</code> increased holdout accuracy by <strong>more</strong> than 1%</li>
<li>There is <strong>no</strong> local maximum of accuracy on the built validation curve</li>
<li><code>GridSearchCV</code> increased holdout accuracy by <strong>less</strong> than 1%</li>
</ul>
<p><em>For discussions, please stick to <a href="https://opendatascience.slack.com/">ODS Slack</a>, channel <strong>#mlcourse_ai_news</strong>, pinned thread <strong>#a2_part1_fall2019</strong></em></p>

</div>
</div>
</div>
<div class="cell border-box-sizing text_cell rendered"><div class="prompt input_prompt">
</div><div class="inner_cell">
<div class="text_cell_render border-box-sizing rendered_html">
<p>Take a look at the SCORE table to estimate ten-year risk of fatal cardiovascular disease in Europe. <a href="https://academic.oup.com/eurheartj/article/24/11/987/427645">Source paper</a>.</p>
<p><img src='../../img/SCORE2007-eng.png' width=70%></p>
<p>Let's create new features according to this picture:</p>
<ul>
<li>$age \in [40,50), age \in [50,55), age \in [55,60), age \in [60,65) $ (4 features)</li>
<li>systolic blood pressure: $ap\_hi \in [120,140), ap\_hi \in [140,160), ap\_hi \in [160,180),$ (3 features)</li>
</ul>
<p>If the values of age or blood pressure don't fall into any of the intervals then all binary features will be equal to zero.</p>
<p><br>Add a <code>smoke</code> feature.
<br>Build the <code>cholesterol</code>  and <code>gender</code> features. Transform the <code>cholesterol</code> to 3 binary features according to it's 3 unique values ( <code>cholesterol</code>=1,  <code>cholesterol</code>=2 and  <code>cholesterol</code>=3). Transform the <code>gender</code> from 1 and 2 into 0 and 1. It is better to rename it to <code>male</code> (0 – woman, 1 – man). In general, this is typically done with <code>sklearn.preprocessing.LabelEncoder</code> but here in case of only 2 unique values it's not necessary.</p>
<p>Finally, the decision tree is built using these 12 binary features (excluding all original features that we had before this feature engineering part).</p>
<p>Create a decision tree with the limitation <code>max_depth=3</code> and train it on the whole train data. Use the <code>DecisionTreeClassifier</code> class with fixed <code>random_state=17</code>, but all other arguments (except for <code>max_depth</code> and <code>random_state</code>) should be left with their default values.</p>
<p><strong><font color='red'>Question 5.</font> Which binary feature is the most important for heart disease detection (i.e., it is placed in the root of the tree)?</strong></p>
<p><font color = 'red'> **Answer options:** </font></p>
<ul>
<li>Systolic blood pressure from 160 to 180 (mmHg)</li>
<li>Cholesterol level == 3</li>
<li>Systolic blood pressure from 140 to 160 (mmHg)</li>
<li>Age from 50 to 55 (years)</li>
<li>Smokes / doesn't smoke</li>
<li>Age from 60 to 65 (years)</li>
</ul>
<p><em>For discussions, please stick to <a href="https://opendatascience.slack.com/">ODS Slack</a>, channel <strong>#mlcourse_ai_news</strong>, pinned thread <strong>#a2_part1_fall2019</strong></em></p>

</div>
</div>
</div>
<div class="cell border-box-sizing code_cell rendered">
<div class="input">
<div class="prompt input_prompt">In&nbsp;[18]:</div>
<div class="inner_cell">
    <div class="input_area">
<div class=" highlight hl-ipython3"><pre><span></span><span class="c1"># You code here</span>
</pre></div>

    </div>
</div>
</div>

</div>
 


    </div>
  </div>

  </div>


  
    <footer class="footer hidden-print">
      <div class="container">
        <div class="col-md-4">
          <p>
            This website does not host notebooks, it only renders notebooks
            available on other websites.
          </p>
        </div>

        <div class="col-md-4">
          <p>
            Delivered by <a href="https://www.fastly.com/">Fastly</a>,
            Rendered by <a href="https://developer.rackspace.com/?nbviewer=awesome">Rackspace</a>
          </p>
          <p>
            nbviewer GitHub <a href="https://github.com/jupyter/nbviewer">repository</a>.
          </p>
        </div>

        <div class="col-md-4">
          
  
            
              <p>
                nbviewer version:
                <a href="https://github.com/jupyter/nbviewer/commit/07b0e305b3254e2280b29f20ceb96c058db2f775">
                  07b0e30
                </a>
              </p>
            
          
  
  <p>
    nbconvert version: <a href="https://github.com/jupyter/nbconvert/releases/tag/5.6.0">
      5.6.0
    </a>
  </p>
  

          
  
  
  <p>
    Rendered
    <span class='date' data-date='Sun, 15 Sep 2019 07:36:37 UTC' title='Sun, 15 Sep 2019 07:36:37 UTC'>(Sun, 15 Sep 2019 07:36:37 UTC)</span>
  </p>
  

        </div>
      </div>
    </footer>
  

  <script src="/static/components/bootstrap/js/bootstrap.min.js?v=5869c96cc8f19086aee625d670d741f9"></script>
  <script src="/static/components/headroom.js/dist/headroom.min.js?v=b0a311ea668f8e768ea375f4a7abb81c"></script>
  <script src="/static/components/headroom.js/dist/jQuery.headroom.min.js?v=f3a1bae118315d0c234afc74dc6aab71"></script>

  
  
  <script>
    $(function(){ $("#menubar").headroom({
      tolerance: 5,
      offset: 205,
      classes: {
        initial: "animated",
        pinned: "slideInDown",
        unpinned: "slideOutUp"
      }
    })});
  </script>


  
  <script>
    (function(i,s,o,g,r,a,m){i['GoogleAnalyticsObject']=r;i[r]=i[r]||function(){
      (i[r].q=i[r].q||[]).push(arguments)},i[r].l=1*new Date();a=s.createElement(o),
      m=s.getElementsByTagName(o)[0];a.async=1;a.src=g;m.parentNode.insertBefore(a,m)
    })(window,document,'script','https://www.google-analytics.com/analytics.js','ga');
    ga('create', 'UA-52617120-5', 'auto',
       {'storage': 'none'});
    ga('set', 'anonymizeIp', true);
    ga('send', 'pageview');
  </script>
  
  <script>
    require({
        paths: {
          moment: "/static/components/moment/min/moment.min.js?v=89f87298ad94aa1e6b92f42eb66da043"
        }
      }, ["moment"], function(moment){
      var date = $("footer .date"),
        m = moment(new Date(date.data('date'))),
        update = function(){ date.text(m.fromNow()); };
      setInterval(update, 61*1000);
      update();
      var w = $(window).scroll(function(event){
        $("body").toggleClass("scrolled", w.scrollTop() > 0);
      });
    });
  </script>

  <!--NEW RELIC Stop Perf Measurement-->
  
  <!--NEW RELIC End-->
</body>
</html>